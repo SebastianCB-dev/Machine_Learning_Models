{
 "cells": [
  {
   "cell_type": "markdown",
   "id": "7b5292ab-3091-4eba-a6a7-be5af8c2de62",
   "metadata": {},
   "source": [
    "# Linear Regression\n",
    "Example with Linear Regression"
   ]
  },
  {
   "cell_type": "markdown",
   "id": "7ff98b09-f65f-48a8-b9e6-66a358e57053",
   "metadata": {},
   "source": [
    "### Dependencies installation"
   ]
  },
  {
   "cell_type": "code",
   "execution_count": 19,
   "id": "6e349b26-c7cc-42f1-9b63-e3ea77d58f69",
   "metadata": {},
   "outputs": [
    {
     "name": "stdout",
     "output_type": "stream",
     "text": [
      "Requirement already satisfied: numpy in /Users/sebastiancb/anaconda3/envs/MachineLearning-Course/lib/python3.10/site-packages (1.26.4)\n",
      "Note: you may need to restart the kernel to use updated packages.\n",
      "Requirement already satisfied: matplotlib in /Users/sebastiancb/anaconda3/envs/MachineLearning-Course/lib/python3.10/site-packages (3.8.2)\n",
      "Requirement already satisfied: contourpy>=1.0.1 in /Users/sebastiancb/anaconda3/envs/MachineLearning-Course/lib/python3.10/site-packages (from matplotlib) (1.2.0)\n",
      "Requirement already satisfied: cycler>=0.10 in /Users/sebastiancb/anaconda3/envs/MachineLearning-Course/lib/python3.10/site-packages (from matplotlib) (0.12.1)\n",
      "Requirement already satisfied: fonttools>=4.22.0 in /Users/sebastiancb/anaconda3/envs/MachineLearning-Course/lib/python3.10/site-packages (from matplotlib) (4.48.1)\n",
      "Requirement already satisfied: kiwisolver>=1.3.1 in /Users/sebastiancb/anaconda3/envs/MachineLearning-Course/lib/python3.10/site-packages (from matplotlib) (1.4.5)\n",
      "Requirement already satisfied: numpy<2,>=1.21 in /Users/sebastiancb/anaconda3/envs/MachineLearning-Course/lib/python3.10/site-packages (from matplotlib) (1.26.4)\n",
      "Requirement already satisfied: packaging>=20.0 in /Users/sebastiancb/anaconda3/envs/MachineLearning-Course/lib/python3.10/site-packages (from matplotlib) (23.1)\n",
      "Requirement already satisfied: pillow>=8 in /Users/sebastiancb/anaconda3/envs/MachineLearning-Course/lib/python3.10/site-packages (from matplotlib) (10.2.0)\n",
      "Requirement already satisfied: pyparsing>=2.3.1 in /Users/sebastiancb/anaconda3/envs/MachineLearning-Course/lib/python3.10/site-packages (from matplotlib) (3.1.1)\n",
      "Requirement already satisfied: python-dateutil>=2.7 in /Users/sebastiancb/anaconda3/envs/MachineLearning-Course/lib/python3.10/site-packages (from matplotlib) (2.8.2)\n",
      "Requirement already satisfied: six>=1.5 in /Users/sebastiancb/anaconda3/envs/MachineLearning-Course/lib/python3.10/site-packages (from python-dateutil>=2.7->matplotlib) (1.16.0)\n",
      "Note: you may need to restart the kernel to use updated packages.\n",
      "Requirement already satisfied: pandas in /Users/sebastiancb/anaconda3/envs/MachineLearning-Course/lib/python3.10/site-packages (2.2.0)\n",
      "Requirement already satisfied: numpy<2,>=1.22.4 in /Users/sebastiancb/anaconda3/envs/MachineLearning-Course/lib/python3.10/site-packages (from pandas) (1.26.4)\n",
      "Requirement already satisfied: python-dateutil>=2.8.2 in /Users/sebastiancb/anaconda3/envs/MachineLearning-Course/lib/python3.10/site-packages (from pandas) (2.8.2)\n",
      "Requirement already satisfied: pytz>=2020.1 in /Users/sebastiancb/anaconda3/envs/MachineLearning-Course/lib/python3.10/site-packages (from pandas) (2023.3.post1)\n",
      "Requirement already satisfied: tzdata>=2022.7 in /Users/sebastiancb/anaconda3/envs/MachineLearning-Course/lib/python3.10/site-packages (from pandas) (2024.1)\n",
      "Requirement already satisfied: six>=1.5 in /Users/sebastiancb/anaconda3/envs/MachineLearning-Course/lib/python3.10/site-packages (from python-dateutil>=2.8.2->pandas) (1.16.0)\n",
      "Note: you may need to restart the kernel to use updated packages.\n"
     ]
    }
   ],
   "source": [
    "%pip install numpy\n",
    "%pip install matplotlib\n",
    "%pip install pandas"
   ]
  },
  {
   "cell_type": "markdown",
   "id": "5c312aba-0dbf-445c-b52b-575322c80f1f",
   "metadata": {},
   "source": [
    "#### 1. Dataset randomly generated"
   ]
  },
  {
   "cell_type": "code",
   "execution_count": 24,
   "id": "29f1f9bc-429d-4dae-a995-826f60fbe0d1",
   "metadata": {},
   "outputs": [
    {
     "data": {
      "text/plain": [
       "array([[ 8.75067   ],\n",
       "       [ 4.79875702],\n",
       "       [ 9.95907684],\n",
       "       [ 4.54882978],\n",
       "       [ 9.77299352],\n",
       "       [ 5.9258885 ],\n",
       "       [ 7.81663554],\n",
       "       [ 5.89414682],\n",
       "       [ 5.76726945],\n",
       "       [ 7.52578596],\n",
       "       [ 7.70837539],\n",
       "       [ 5.47921118],\n",
       "       [ 7.86446398],\n",
       "       [ 4.21138945],\n",
       "       [10.54117166],\n",
       "       [10.79037398],\n",
       "       [ 9.12530524],\n",
       "       [ 5.39301587],\n",
       "       [ 5.3381902 ],\n",
       "       [ 7.89997888],\n",
       "       [ 5.67120605],\n",
       "       [10.52013458],\n",
       "       [ 6.81994702],\n",
       "       [ 5.43695429],\n",
       "       [ 8.25093242],\n",
       "       [ 4.70376268],\n",
       "       [ 3.65071619],\n",
       "       [ 8.16418653],\n",
       "       [ 4.89225421],\n",
       "       [ 6.64485417],\n",
       "       [ 5.28018098],\n",
       "       [ 7.57907292],\n",
       "       [ 8.88290085],\n",
       "       [ 9.46380624],\n",
       "       [10.69024786],\n",
       "       [ 9.84387697],\n",
       "       [ 8.39457909],\n",
       "       [ 6.04455573],\n",
       "       [ 6.9826837 ],\n",
       "       [ 8.60601758],\n",
       "       [ 7.8697976 ],\n",
       "       [ 4.16959087],\n",
       "       [ 8.94907687],\n",
       "       [ 6.37733112],\n",
       "       [ 9.68499733],\n",
       "       [ 6.06055285],\n",
       "       [ 6.26470369],\n",
       "       [ 9.85273881],\n",
       "       [ 6.82217454],\n",
       "       [10.15460506],\n",
       "       [ 6.88949545],\n",
       "       [ 9.44499438],\n",
       "       [ 9.11934403],\n",
       "       [ 6.17352665],\n",
       "       [ 9.28190391],\n",
       "       [ 7.72312328],\n",
       "       [ 6.88157635],\n",
       "       [ 8.26061046],\n",
       "       [ 6.34615079],\n",
       "       [ 5.07518012],\n",
       "       [ 6.5042065 ],\n",
       "       [ 4.06927735],\n",
       "       [ 7.61370916],\n",
       "       [ 8.46824278],\n",
       "       [ 4.54501945],\n",
       "       [ 5.44011063],\n",
       "       [ 6.59075696],\n",
       "       [ 5.63370449],\n",
       "       [ 4.82351793],\n",
       "       [ 7.50072585],\n",
       "       [ 7.48654943],\n",
       "       [ 5.35833486],\n",
       "       [ 4.99053151],\n",
       "       [ 9.13071023],\n",
       "       [ 6.34704862],\n",
       "       [ 8.95407274],\n",
       "       [ 5.94153587],\n",
       "       [ 5.47204031],\n",
       "       [10.04670845],\n",
       "       [ 4.8642353 ],\n",
       "       [ 6.45632173],\n",
       "       [ 6.90650274],\n",
       "       [ 7.65444143],\n",
       "       [ 5.26560009],\n",
       "       [ 8.64639973],\n",
       "       [10.542437  ],\n",
       "       [ 5.40893646],\n",
       "       [ 4.55668735],\n",
       "       [ 4.8614057 ],\n",
       "       [ 7.93258601],\n",
       "       [ 5.49484052],\n",
       "       [ 6.60775847],\n",
       "       [ 6.06847835],\n",
       "       [ 6.01986744],\n",
       "       [ 2.9620307 ],\n",
       "       [ 7.23618947],\n",
       "       [ 9.87172877],\n",
       "       [ 8.64790517],\n",
       "       [ 9.34779506],\n",
       "       [ 7.12192196]])"
      ]
     },
     "execution_count": 24,
     "metadata": {},
     "output_type": "execute_result"
    }
   ],
   "source": [
    "import numpy as np\n",
    "X = 2 * np.random.rand(100, 1)\n",
    "y = 4 + 3 * X + np.random.randn(100, 1)\n",
    "X\n",
    "y"
   ]
  },
  {
   "cell_type": "markdown",
   "id": "c32d47d9-3e92-4d91-8ef4-a7e2c07d8502",
   "metadata": {},
   "source": [
    "#### 2. Visualizing the dataset"
   ]
  },
  {
   "cell_type": "code",
   "execution_count": 8,
   "id": "f7c75c3c-4d0b-41cb-a863-fcaf4c6fec50",
   "metadata": {},
   "outputs": [],
   "source": [
    "import matplotlib.pyplot as plt\n",
    "%matplotlib inline"
   ]
  },
  {
   "cell_type": "code",
   "execution_count": 14,
   "id": "63b11d2c-17d8-4841-85a0-7123861169e9",
   "metadata": {},
   "outputs": [
    {
     "data": {
      "image/png": "[encoded data removed]",
      "text/plain": [
       "<Figure size 640x480 with 1 Axes>"
      ]
     },
     "metadata": {},
     "output_type": "display_data"
    }
   ],
   "source": [
    "plt.plot(X, y, \"b.\")\n",
    "plt.show()"
   ]
  },
  {
   "cell_type": "code",
   "execution_count": 25,
   "id": "a744317f-64ad-484e-ab2d-c8f35c04d6f1",
   "metadata": {},
   "outputs": [
    {
     "data": {
      "image/png": "[encoded data removed]",
      "text/plain": [
       "<Figure size 640x480 with 1 Axes>"
      ]
     },
     "metadata": {},
     "output_type": "display_data"
    }
   ],
   "source": [
    "plt.plot(X, y, \"b.\")\n",
    "plt.xlabel(\"affected devices (u/1000)\")\n",
    "plt.ylabel(\"incident cost (u/10000)\")\n",
    "plt.show()"
   ]
  },
  {
   "cell_type": "markdown",
   "id": "a090b442-4494-4ceb-839e-cbfcfd8c2e0a",
   "metadata": {},
   "source": [
    "##### 3. Modification of the dataset"
   ]
  },
  {
   "cell_type": "code",
   "execution_count": 26,
   "id": "5397d303-b3a4-404c-a1c7-b41f00543e05",
   "metadata": {},
   "outputs": [
    {
     "data": {
      "text/html": [
       "<div>\n",
       "<style scoped>\n",
       "    .dataframe tbody tr th:only-of-type {\n",
       "        vertical-align: middle;\n",
       "    }\n",
       "\n",
       "    .dataframe tbody tr th {\n",
       "        vertical-align: top;\n",
       "    }\n",
       "\n",
       "    .dataframe thead th {\n",
       "        text-align: right;\n",
       "    }\n",
       "</style>\n",
       "<table border=\"1\" class=\"dataframe\">\n",
       "  <thead>\n",
       "    <tr style=\"text-align: right;\">\n",
       "      <th></th>\n",
       "      <th>#_affected_devices</th>\n",
       "      <th>cost</th>\n",
       "    </tr>\n",
       "  </thead>\n",
       "  <tbody>\n",
       "    <tr>\n",
       "      <th>0</th>\n",
       "      <td>1.319057</td>\n",
       "      <td>8.750670</td>\n",
       "    </tr>\n",
       "    <tr>\n",
       "      <th>1</th>\n",
       "      <td>0.144464</td>\n",
       "      <td>4.798757</td>\n",
       "    </tr>\n",
       "    <tr>\n",
       "      <th>2</th>\n",
       "      <td>1.760441</td>\n",
       "      <td>9.959077</td>\n",
       "    </tr>\n",
       "    <tr>\n",
       "      <th>3</th>\n",
       "      <td>0.035044</td>\n",
       "      <td>4.548830</td>\n",
       "    </tr>\n",
       "    <tr>\n",
       "      <th>4</th>\n",
       "      <td>1.094830</td>\n",
       "      <td>9.772994</td>\n",
       "    </tr>\n",
       "    <tr>\n",
       "      <th>5</th>\n",
       "      <td>0.243017</td>\n",
       "      <td>5.925888</td>\n",
       "    </tr>\n",
       "    <tr>\n",
       "      <th>6</th>\n",
       "      <td>1.861741</td>\n",
       "      <td>7.816636</td>\n",
       "    </tr>\n",
       "    <tr>\n",
       "      <th>7</th>\n",
       "      <td>0.604208</td>\n",
       "      <td>5.894147</td>\n",
       "    </tr>\n",
       "    <tr>\n",
       "      <th>8</th>\n",
       "      <td>0.173639</td>\n",
       "      <td>5.767269</td>\n",
       "    </tr>\n",
       "    <tr>\n",
       "      <th>9</th>\n",
       "      <td>0.488668</td>\n",
       "      <td>7.525786</td>\n",
       "    </tr>\n",
       "  </tbody>\n",
       "</table>\n",
       "</div>"
      ],
      "text/plain": [
       "   #_affected_devices      cost\n",
       "0            1.319057  8.750670\n",
       "1            0.144464  4.798757\n",
       "2            1.760441  9.959077\n",
       "3            0.035044  4.548830\n",
       "4            1.094830  9.772994\n",
       "5            0.243017  5.925888\n",
       "6            1.861741  7.816636\n",
       "7            0.604208  5.894147\n",
       "8            0.173639  5.767269\n",
       "9            0.488668  7.525786"
      ]
     },
     "execution_count": 26,
     "metadata": {},
     "output_type": "execute_result"
    }
   ],
   "source": [
    "import pandas as pd\n",
    "data = {'#_affected_devices': X.flatten(), 'cost': y.flatten()}\n",
    "df = pd.DataFrame(data)\n",
    "df.head(10)"
   ]
  },
  {
   "cell_type": "code",
   "execution_count": 27,
   "id": "5e7f52ce-e28b-43ca-a7a2-7b89f15892eb",
   "metadata": {},
   "outputs": [
    {
     "data": {
      "text/html": [
       "<div>\n",
       "<style scoped>\n",
       "    .dataframe tbody tr th:only-of-type {\n",
       "        vertical-align: middle;\n",
       "    }\n",
       "\n",
       "    .dataframe tbody tr th {\n",
       "        vertical-align: top;\n",
       "    }\n",
       "\n",
       "    .dataframe thead th {\n",
       "        text-align: right;\n",
       "    }\n",
       "</style>\n",
       "<table border=\"1\" class=\"dataframe\">\n",
       "  <thead>\n",
       "    <tr style=\"text-align: right;\">\n",
       "      <th></th>\n",
       "      <th>#_affected_devices</th>\n",
       "      <th>cost</th>\n",
       "    </tr>\n",
       "  </thead>\n",
       "  <tbody>\n",
       "    <tr>\n",
       "      <th>0</th>\n",
       "      <td>1319</td>\n",
       "      <td>87506</td>\n",
       "    </tr>\n",
       "    <tr>\n",
       "      <th>1</th>\n",
       "      <td>144</td>\n",
       "      <td>47987</td>\n",
       "    </tr>\n",
       "    <tr>\n",
       "      <th>2</th>\n",
       "      <td>1760</td>\n",
       "      <td>99590</td>\n",
       "    </tr>\n",
       "    <tr>\n",
       "      <th>3</th>\n",
       "      <td>35</td>\n",
       "      <td>45488</td>\n",
       "    </tr>\n",
       "    <tr>\n",
       "      <th>4</th>\n",
       "      <td>1094</td>\n",
       "      <td>97729</td>\n",
       "    </tr>\n",
       "    <tr>\n",
       "      <th>5</th>\n",
       "      <td>243</td>\n",
       "      <td>59258</td>\n",
       "    </tr>\n",
       "    <tr>\n",
       "      <th>6</th>\n",
       "      <td>1861</td>\n",
       "      <td>78166</td>\n",
       "    </tr>\n",
       "    <tr>\n",
       "      <th>7</th>\n",
       "      <td>604</td>\n",
       "      <td>58941</td>\n",
       "    </tr>\n",
       "    <tr>\n",
       "      <th>8</th>\n",
       "      <td>173</td>\n",
       "      <td>57672</td>\n",
       "    </tr>\n",
       "    <tr>\n",
       "      <th>9</th>\n",
       "      <td>488</td>\n",
       "      <td>75257</td>\n",
       "    </tr>\n",
       "  </tbody>\n",
       "</table>\n",
       "</div>"
      ],
      "text/plain": [
       "   #_affected_devices   cost\n",
       "0                1319  87506\n",
       "1                 144  47987\n",
       "2                1760  99590\n",
       "3                  35  45488\n",
       "4                1094  97729\n",
       "5                 243  59258\n",
       "6                1861  78166\n",
       "7                 604  58941\n",
       "8                 173  57672\n",
       "9                 488  75257"
      ]
     },
     "execution_count": 27,
     "metadata": {},
     "output_type": "execute_result"
    }
   ],
   "source": [
    "# Scale the data\n",
    "df['#_affected_devices'] = df['#_affected_devices'] * 1000\n",
    "df['#_affected_devices'] = df['#_affected_devices'].astype('int')\n",
    "df['cost'] = df['cost'] * 10000\n",
    "df['cost'] = df['cost'].astype('int')\n",
    "df.head(10)"
   ]
  },
  {
   "cell_type": "code",
   "execution_count": 28,
   "id": "aa51d72e-37df-436d-bda8-72c47e6a6158",
   "metadata": {},
   "outputs": [
    {
     "data": {
      "image/png": "[encoded data removed]",
      "text/plain": [
       "<Figure size 640x480 with 1 Axes>"
      ]
     },
     "metadata": {},
     "output_type": "display_data"
    }
   ],
   "source": [
    "plt.plot(df['#_affected_devices'], df['cost'], \"b.\")\n",
    "plt.xlabel(\"# Affected devices\")\n",
    "plt.ylabel('Cost')\n",
    "plt.show()"
   ]
  }
 ],
 "metadata": {
  "kernelspec": {
   "display_name": "Python 3 (ipykernel)",
   "language": "python",
   "name": "python3"
  },
  "language_info": {
   "codemirror_mode": {
    "name": "ipython",
    "version": 3
   },
   "file_extension": ".py",
   "mimetype": "text/x-python",
   "name": "python",
   "nbconvert_exporter": "python",
   "pygments_lexer": "ipython3",
   "version": "3.10.13"
  }
 },
 "nbformat": 4,
 "nbformat_minor": 5
}
